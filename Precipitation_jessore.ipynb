{
  "nbformat": 4,
  "nbformat_minor": 0,
  "metadata": {
    "colab": {
      "provenance": []
    },
    "kernelspec": {
      "name": "python3",
      "display_name": "Python 3"
    },
    "language_info": {
      "name": "python"
    }
  },
  "cells": [
    {
      "cell_type": "markdown",
      "source": [
        "#**# Displaying first 20 rows of data**\n",
        "\n",
        "\n"
      ],
      "metadata": {
        "id": "q9RESayG2nFx"
      }
    },
    {
      "cell_type": "code",
      "execution_count": null,
      "metadata": {
        "colab": {
          "base_uri": "https://localhost:8080/",
          "height": 676
        },
        "id": "tPl87qTmD_7Y",
        "outputId": "c662f464-abc8-4d30-a2ad-4d26ca9560fe"
      },
      "outputs": [
        {
          "output_type": "execute_result",
          "data": {
            "text/plain": [
              "    SL.          Station  Year  Month  Total Rainfall (mm)\n",
              "0     1  Jessore (11407)  1992      1                    0\n",
              "1     2  Jessore (11407)  1992      2                    0\n",
              "2     3  Jessore (11407)  1992      3                    0\n",
              "3     4  Jessore (11407)  1992      4                    1\n",
              "4     5  Jessore (11407)  1992      5                  223\n",
              "5     6  Jessore (11407)  1992      6                  303\n",
              "6     7  Jessore (11407)  1992      7                  136\n",
              "7     8  Jessore (11407)  1992      8                    0\n",
              "8     9  Jessore (11407)  1992      9                    0\n",
              "9    10  Jessore (11407)  1992     10                    0\n",
              "10   11  Jessore (11407)  1992     11                    0\n",
              "11   12  Jessore (11407)  1992     12                    0\n",
              "12   13  Jessore (11407)  1993      1                    0\n",
              "13   14  Jessore (11407)  1993      2                    0\n",
              "14   15  Jessore (11407)  1993      3                  115\n",
              "15   16  Jessore (11407)  1993      4                  147\n",
              "16   17  Jessore (11407)  1993      5                  132\n",
              "17   18  Jessore (11407)  1993      6                  437\n",
              "18   19  Jessore (11407)  1993      7                   54\n",
              "19   20  Jessore (11407)  1993      8                    0"
            ],
            "text/html": [
              "\n",
              "  <div id=\"df-be86a348-2c01-4777-b7fa-64e16dbd906e\" class=\"colab-df-container\">\n",
              "    <div>\n",
              "<style scoped>\n",
              "    .dataframe tbody tr th:only-of-type {\n",
              "        vertical-align: middle;\n",
              "    }\n",
              "\n",
              "    .dataframe tbody tr th {\n",
              "        vertical-align: top;\n",
              "    }\n",
              "\n",
              "    .dataframe thead th {\n",
              "        text-align: right;\n",
              "    }\n",
              "</style>\n",
              "<table border=\"1\" class=\"dataframe\">\n",
              "  <thead>\n",
              "    <tr style=\"text-align: right;\">\n",
              "      <th></th>\n",
              "      <th>SL.</th>\n",
              "      <th>Station</th>\n",
              "      <th>Year</th>\n",
              "      <th>Month</th>\n",
              "      <th>Total Rainfall (mm)</th>\n",
              "    </tr>\n",
              "  </thead>\n",
              "  <tbody>\n",
              "    <tr>\n",
              "      <th>0</th>\n",
              "      <td>1</td>\n",
              "      <td>Jessore (11407)</td>\n",
              "      <td>1992</td>\n",
              "      <td>1</td>\n",
              "      <td>0</td>\n",
              "    </tr>\n",
              "    <tr>\n",
              "      <th>1</th>\n",
              "      <td>2</td>\n",
              "      <td>Jessore (11407)</td>\n",
              "      <td>1992</td>\n",
              "      <td>2</td>\n",
              "      <td>0</td>\n",
              "    </tr>\n",
              "    <tr>\n",
              "      <th>2</th>\n",
              "      <td>3</td>\n",
              "      <td>Jessore (11407)</td>\n",
              "      <td>1992</td>\n",
              "      <td>3</td>\n",
              "      <td>0</td>\n",
              "    </tr>\n",
              "    <tr>\n",
              "      <th>3</th>\n",
              "      <td>4</td>\n",
              "      <td>Jessore (11407)</td>\n",
              "      <td>1992</td>\n",
              "      <td>4</td>\n",
              "      <td>1</td>\n",
              "    </tr>\n",
              "    <tr>\n",
              "      <th>4</th>\n",
              "      <td>5</td>\n",
              "      <td>Jessore (11407)</td>\n",
              "      <td>1992</td>\n",
              "      <td>5</td>\n",
              "      <td>223</td>\n",
              "    </tr>\n",
              "    <tr>\n",
              "      <th>5</th>\n",
              "      <td>6</td>\n",
              "      <td>Jessore (11407)</td>\n",
              "      <td>1992</td>\n",
              "      <td>6</td>\n",
              "      <td>303</td>\n",
              "    </tr>\n",
              "    <tr>\n",
              "      <th>6</th>\n",
              "      <td>7</td>\n",
              "      <td>Jessore (11407)</td>\n",
              "      <td>1992</td>\n",
              "      <td>7</td>\n",
              "      <td>136</td>\n",
              "    </tr>\n",
              "    <tr>\n",
              "      <th>7</th>\n",
              "      <td>8</td>\n",
              "      <td>Jessore (11407)</td>\n",
              "      <td>1992</td>\n",
              "      <td>8</td>\n",
              "      <td>0</td>\n",
              "    </tr>\n",
              "    <tr>\n",
              "      <th>8</th>\n",
              "      <td>9</td>\n",
              "      <td>Jessore (11407)</td>\n",
              "      <td>1992</td>\n",
              "      <td>9</td>\n",
              "      <td>0</td>\n",
              "    </tr>\n",
              "    <tr>\n",
              "      <th>9</th>\n",
              "      <td>10</td>\n",
              "      <td>Jessore (11407)</td>\n",
              "      <td>1992</td>\n",
              "      <td>10</td>\n",
              "      <td>0</td>\n",
              "    </tr>\n",
              "    <tr>\n",
              "      <th>10</th>\n",
              "      <td>11</td>\n",
              "      <td>Jessore (11407)</td>\n",
              "      <td>1992</td>\n",
              "      <td>11</td>\n",
              "      <td>0</td>\n",
              "    </tr>\n",
              "    <tr>\n",
              "      <th>11</th>\n",
              "      <td>12</td>\n",
              "      <td>Jessore (11407)</td>\n",
              "      <td>1992</td>\n",
              "      <td>12</td>\n",
              "      <td>0</td>\n",
              "    </tr>\n",
              "    <tr>\n",
              "      <th>12</th>\n",
              "      <td>13</td>\n",
              "      <td>Jessore (11407)</td>\n",
              "      <td>1993</td>\n",
              "      <td>1</td>\n",
              "      <td>0</td>\n",
              "    </tr>\n",
              "    <tr>\n",
              "      <th>13</th>\n",
              "      <td>14</td>\n",
              "      <td>Jessore (11407)</td>\n",
              "      <td>1993</td>\n",
              "      <td>2</td>\n",
              "      <td>0</td>\n",
              "    </tr>\n",
              "    <tr>\n",
              "      <th>14</th>\n",
              "      <td>15</td>\n",
              "      <td>Jessore (11407)</td>\n",
              "      <td>1993</td>\n",
              "      <td>3</td>\n",
              "      <td>115</td>\n",
              "    </tr>\n",
              "    <tr>\n",
              "      <th>15</th>\n",
              "      <td>16</td>\n",
              "      <td>Jessore (11407)</td>\n",
              "      <td>1993</td>\n",
              "      <td>4</td>\n",
              "      <td>147</td>\n",
              "    </tr>\n",
              "    <tr>\n",
              "      <th>16</th>\n",
              "      <td>17</td>\n",
              "      <td>Jessore (11407)</td>\n",
              "      <td>1993</td>\n",
              "      <td>5</td>\n",
              "      <td>132</td>\n",
              "    </tr>\n",
              "    <tr>\n",
              "      <th>17</th>\n",
              "      <td>18</td>\n",
              "      <td>Jessore (11407)</td>\n",
              "      <td>1993</td>\n",
              "      <td>6</td>\n",
              "      <td>437</td>\n",
              "    </tr>\n",
              "    <tr>\n",
              "      <th>18</th>\n",
              "      <td>19</td>\n",
              "      <td>Jessore (11407)</td>\n",
              "      <td>1993</td>\n",
              "      <td>7</td>\n",
              "      <td>54</td>\n",
              "    </tr>\n",
              "    <tr>\n",
              "      <th>19</th>\n",
              "      <td>20</td>\n",
              "      <td>Jessore (11407)</td>\n",
              "      <td>1993</td>\n",
              "      <td>8</td>\n",
              "      <td>0</td>\n",
              "    </tr>\n",
              "  </tbody>\n",
              "</table>\n",
              "</div>\n",
              "    <div class=\"colab-df-buttons\">\n",
              "\n",
              "  <div class=\"colab-df-container\">\n",
              "    <button class=\"colab-df-convert\" onclick=\"convertToInteractive('df-be86a348-2c01-4777-b7fa-64e16dbd906e')\"\n",
              "            title=\"Convert this dataframe to an interactive table.\"\n",
              "            style=\"display:none;\">\n",
              "\n",
              "  <svg xmlns=\"http://www.w3.org/2000/svg\" height=\"24px\" viewBox=\"0 -960 960 960\">\n",
              "    <path d=\"M120-120v-720h720v720H120Zm60-500h600v-160H180v160Zm220 220h160v-160H400v160Zm0 220h160v-160H400v160ZM180-400h160v-160H180v160Zm440 0h160v-160H620v160ZM180-180h160v-160H180v160Zm440 0h160v-160H620v160Z\"/>\n",
              "  </svg>\n",
              "    </button>\n",
              "\n",
              "  <style>\n",
              "    .colab-df-container {\n",
              "      display:flex;\n",
              "      gap: 12px;\n",
              "    }\n",
              "\n",
              "    .colab-df-convert {\n",
              "      background-color: #E8F0FE;\n",
              "      border: none;\n",
              "      border-radius: 50%;\n",
              "      cursor: pointer;\n",
              "      display: none;\n",
              "      fill: #1967D2;\n",
              "      height: 32px;\n",
              "      padding: 0 0 0 0;\n",
              "      width: 32px;\n",
              "    }\n",
              "\n",
              "    .colab-df-convert:hover {\n",
              "      background-color: #E2EBFA;\n",
              "      box-shadow: 0px 1px 2px rgba(60, 64, 67, 0.3), 0px 1px 3px 1px rgba(60, 64, 67, 0.15);\n",
              "      fill: #174EA6;\n",
              "    }\n",
              "\n",
              "    .colab-df-buttons div {\n",
              "      margin-bottom: 4px;\n",
              "    }\n",
              "\n",
              "    [theme=dark] .colab-df-convert {\n",
              "      background-color: #3B4455;\n",
              "      fill: #D2E3FC;\n",
              "    }\n",
              "\n",
              "    [theme=dark] .colab-df-convert:hover {\n",
              "      background-color: #434B5C;\n",
              "      box-shadow: 0px 1px 3px 1px rgba(0, 0, 0, 0.15);\n",
              "      filter: drop-shadow(0px 1px 2px rgba(0, 0, 0, 0.3));\n",
              "      fill: #FFFFFF;\n",
              "    }\n",
              "  </style>\n",
              "\n",
              "    <script>\n",
              "      const buttonEl =\n",
              "        document.querySelector('#df-be86a348-2c01-4777-b7fa-64e16dbd906e button.colab-df-convert');\n",
              "      buttonEl.style.display =\n",
              "        google.colab.kernel.accessAllowed ? 'block' : 'none';\n",
              "\n",
              "      async function convertToInteractive(key) {\n",
              "        const element = document.querySelector('#df-be86a348-2c01-4777-b7fa-64e16dbd906e');\n",
              "        const dataTable =\n",
              "          await google.colab.kernel.invokeFunction('convertToInteractive',\n",
              "                                                    [key], {});\n",
              "        if (!dataTable) return;\n",
              "\n",
              "        const docLinkHtml = 'Like what you see? Visit the ' +\n",
              "          '<a target=\"_blank\" href=https://colab.research.google.com/notebooks/data_table.ipynb>data table notebook</a>'\n",
              "          + ' to learn more about interactive tables.';\n",
              "        element.innerHTML = '';\n",
              "        dataTable['output_type'] = 'display_data';\n",
              "        await google.colab.output.renderOutput(dataTable, element);\n",
              "        const docLink = document.createElement('div');\n",
              "        docLink.innerHTML = docLinkHtml;\n",
              "        element.appendChild(docLink);\n",
              "      }\n",
              "    </script>\n",
              "  </div>\n",
              "\n",
              "\n",
              "<div id=\"df-045b7e3f-9b3f-4c0f-8968-42d596623eeb\">\n",
              "  <button class=\"colab-df-quickchart\" onclick=\"quickchart('df-045b7e3f-9b3f-4c0f-8968-42d596623eeb')\"\n",
              "            title=\"Suggest charts\"\n",
              "            style=\"display:none;\">\n",
              "\n",
              "<svg xmlns=\"http://www.w3.org/2000/svg\" height=\"24px\"viewBox=\"0 0 24 24\"\n",
              "     width=\"24px\">\n",
              "    <g>\n",
              "        <path d=\"M19 3H5c-1.1 0-2 .9-2 2v14c0 1.1.9 2 2 2h14c1.1 0 2-.9 2-2V5c0-1.1-.9-2-2-2zM9 17H7v-7h2v7zm4 0h-2V7h2v10zm4 0h-2v-4h2v4z\"/>\n",
              "    </g>\n",
              "</svg>\n",
              "  </button>\n",
              "\n",
              "<style>\n",
              "  .colab-df-quickchart {\n",
              "      --bg-color: #E8F0FE;\n",
              "      --fill-color: #1967D2;\n",
              "      --hover-bg-color: #E2EBFA;\n",
              "      --hover-fill-color: #174EA6;\n",
              "      --disabled-fill-color: #AAA;\n",
              "      --disabled-bg-color: #DDD;\n",
              "  }\n",
              "\n",
              "  [theme=dark] .colab-df-quickchart {\n",
              "      --bg-color: #3B4455;\n",
              "      --fill-color: #D2E3FC;\n",
              "      --hover-bg-color: #434B5C;\n",
              "      --hover-fill-color: #FFFFFF;\n",
              "      --disabled-bg-color: #3B4455;\n",
              "      --disabled-fill-color: #666;\n",
              "  }\n",
              "\n",
              "  .colab-df-quickchart {\n",
              "    background-color: var(--bg-color);\n",
              "    border: none;\n",
              "    border-radius: 50%;\n",
              "    cursor: pointer;\n",
              "    display: none;\n",
              "    fill: var(--fill-color);\n",
              "    height: 32px;\n",
              "    padding: 0;\n",
              "    width: 32px;\n",
              "  }\n",
              "\n",
              "  .colab-df-quickchart:hover {\n",
              "    background-color: var(--hover-bg-color);\n",
              "    box-shadow: 0 1px 2px rgba(60, 64, 67, 0.3), 0 1px 3px 1px rgba(60, 64, 67, 0.15);\n",
              "    fill: var(--button-hover-fill-color);\n",
              "  }\n",
              "\n",
              "  .colab-df-quickchart-complete:disabled,\n",
              "  .colab-df-quickchart-complete:disabled:hover {\n",
              "    background-color: var(--disabled-bg-color);\n",
              "    fill: var(--disabled-fill-color);\n",
              "    box-shadow: none;\n",
              "  }\n",
              "\n",
              "  .colab-df-spinner {\n",
              "    border: 2px solid var(--fill-color);\n",
              "    border-color: transparent;\n",
              "    border-bottom-color: var(--fill-color);\n",
              "    animation:\n",
              "      spin 1s steps(1) infinite;\n",
              "  }\n",
              "\n",
              "  @keyframes spin {\n",
              "    0% {\n",
              "      border-color: transparent;\n",
              "      border-bottom-color: var(--fill-color);\n",
              "      border-left-color: var(--fill-color);\n",
              "    }\n",
              "    20% {\n",
              "      border-color: transparent;\n",
              "      border-left-color: var(--fill-color);\n",
              "      border-top-color: var(--fill-color);\n",
              "    }\n",
              "    30% {\n",
              "      border-color: transparent;\n",
              "      border-left-color: var(--fill-color);\n",
              "      border-top-color: var(--fill-color);\n",
              "      border-right-color: var(--fill-color);\n",
              "    }\n",
              "    40% {\n",
              "      border-color: transparent;\n",
              "      border-right-color: var(--fill-color);\n",
              "      border-top-color: var(--fill-color);\n",
              "    }\n",
              "    60% {\n",
              "      border-color: transparent;\n",
              "      border-right-color: var(--fill-color);\n",
              "    }\n",
              "    80% {\n",
              "      border-color: transparent;\n",
              "      border-right-color: var(--fill-color);\n",
              "      border-bottom-color: var(--fill-color);\n",
              "    }\n",
              "    90% {\n",
              "      border-color: transparent;\n",
              "      border-bottom-color: var(--fill-color);\n",
              "    }\n",
              "  }\n",
              "</style>\n",
              "\n",
              "  <script>\n",
              "    async function quickchart(key) {\n",
              "      const quickchartButtonEl =\n",
              "        document.querySelector('#' + key + ' button');\n",
              "      quickchartButtonEl.disabled = true;  // To prevent multiple clicks.\n",
              "      quickchartButtonEl.classList.add('colab-df-spinner');\n",
              "      try {\n",
              "        const charts = await google.colab.kernel.invokeFunction(\n",
              "            'suggestCharts', [key], {});\n",
              "      } catch (error) {\n",
              "        console.error('Error during call to suggestCharts:', error);\n",
              "      }\n",
              "      quickchartButtonEl.classList.remove('colab-df-spinner');\n",
              "      quickchartButtonEl.classList.add('colab-df-quickchart-complete');\n",
              "    }\n",
              "    (() => {\n",
              "      let quickchartButtonEl =\n",
              "        document.querySelector('#df-045b7e3f-9b3f-4c0f-8968-42d596623eeb button');\n",
              "      quickchartButtonEl.style.display =\n",
              "        google.colab.kernel.accessAllowed ? 'block' : 'none';\n",
              "    })();\n",
              "  </script>\n",
              "</div>\n",
              "\n",
              "    </div>\n",
              "  </div>\n"
            ],
            "application/vnd.google.colaboratory.intrinsic+json": {
              "type": "dataframe",
              "variable_name": "df",
              "summary": "{\n  \"name\": \"df\",\n  \"rows\": 372,\n  \"fields\": [\n    {\n      \"column\": \"SL.\",\n      \"properties\": {\n        \"dtype\": \"number\",\n        \"std\": 107,\n        \"min\": 1,\n        \"max\": 372,\n        \"num_unique_values\": 372,\n        \"samples\": [\n          328,\n          34,\n          16\n        ],\n        \"semantic_type\": \"\",\n        \"description\": \"\"\n      }\n    },\n    {\n      \"column\": \"Station\",\n      \"properties\": {\n        \"dtype\": \"category\",\n        \"num_unique_values\": 1,\n        \"samples\": [\n          \"Jessore (11407)\"\n        ],\n        \"semantic_type\": \"\",\n        \"description\": \"\"\n      }\n    },\n    {\n      \"column\": \"Year\",\n      \"properties\": {\n        \"dtype\": \"number\",\n        \"std\": 8,\n        \"min\": 1992,\n        \"max\": 2022,\n        \"num_unique_values\": 31,\n        \"samples\": [\n          2019\n        ],\n        \"semantic_type\": \"\",\n        \"description\": \"\"\n      }\n    },\n    {\n      \"column\": \"Month\",\n      \"properties\": {\n        \"dtype\": \"number\",\n        \"std\": 3,\n        \"min\": 1,\n        \"max\": 12,\n        \"num_unique_values\": 12,\n        \"samples\": [\n          11\n        ],\n        \"semantic_type\": \"\",\n        \"description\": \"\"\n      }\n    },\n    {\n      \"column\": \"Total Rainfall (mm)\",\n      \"properties\": {\n        \"dtype\": \"number\",\n        \"std\": 104,\n        \"min\": 0,\n        \"max\": 535,\n        \"num_unique_values\": 125,\n        \"samples\": [\n          168\n        ],\n        \"semantic_type\": \"\",\n        \"description\": \"\"\n      }\n    }\n  ]\n}"
            }
          },
          "metadata": {},
          "execution_count": 1
        }
      ],
      "source": [
        "import pandas as pd\n",
        "\n",
        "df = pd.read_csv('Precipitation _Report Jashore Station pre monsoon hot summer march2june 1992to2022.csv', skiprows = 2)\n",
        "\n",
        "df.head(20)"
      ]
    },
    {
      "cell_type": "markdown",
      "source": [
        "#**# Displaying data types from the filtered dataset**"
      ],
      "metadata": {
        "id": "u0dcVfo1Mj76"
      }
    },
    {
      "cell_type": "code",
      "source": [
        "filtered_df = df[(df['Month'] == 5) & (df['Year'].between(2012, 2022))]\n",
        "\n",
        "data_types = filtered_df.dtypes\n",
        "print(data_types)"
      ],
      "metadata": {
        "colab": {
          "base_uri": "https://localhost:8080/"
        },
        "id": "jeoCLfdyMDWV",
        "outputId": "410941cb-dc82-47c7-89ca-2e1832a98b0c"
      },
      "execution_count": null,
      "outputs": [
        {
          "output_type": "stream",
          "name": "stdout",
          "text": [
            "SL.                     int64\n",
            "Station                object\n",
            "Year                    int64\n",
            "Month                   int64\n",
            "Total Rainfall (mm)     int64\n",
            "dtype: object\n"
          ]
        }
      ]
    },
    {
      "cell_type": "markdown",
      "source": [
        "#**# Filter the DataFrame for the month of May and the years 2012 to 2022**"
      ],
      "metadata": {
        "id": "kbZIS47tz6CL"
      }
    },
    {
      "cell_type": "code",
      "source": [
        "\n",
        "# Store the rainfall data in variables from 2018 to 2022\n",
        "rainfall_2018 = filtered_df[filtered_df['Year'] == 2018]['Total Rainfall (mm)'].values[0]\n",
        "rainfall_2019 = filtered_df[filtered_df['Year'] == 2019]['Total Rainfall (mm)'].values[0]\n",
        "rainfall_2020 = filtered_df[filtered_df['Year'] == 2020]['Total Rainfall (mm)'].values[0]\n",
        "rainfall_2021 = filtered_df[filtered_df['Year'] == 2021]['Total Rainfall (mm)'].values[0]\n",
        "rainfall_2022 = filtered_df[filtered_df['Year'] == 2022]['Total Rainfall (mm)'].values[0]\n",
        "\n",
        "print(f'Rainfall in May 2018: {rainfall_2018} mm')\n",
        "print(f'Rainfall in May 2019: {rainfall_2019} mm')\n",
        "print(f'Rainfall in May 2020: {rainfall_2020} mm')\n",
        "print(f'Rainfall in May 2021: {rainfall_2021} mm')\n",
        "print(f'Rainfall in May 2022: {rainfall_2022} mm')\n"
      ],
      "metadata": {
        "id": "QhkndOHCGzYG",
        "colab": {
          "base_uri": "https://localhost:8080/"
        },
        "outputId": "e646f968-c2b8-4a71-d477-258267c30109"
      },
      "execution_count": null,
      "outputs": [
        {
          "output_type": "stream",
          "name": "stdout",
          "text": [
            "Rainfall in May 2018: 148 mm\n",
            "Rainfall in May 2019: 122 mm\n",
            "Rainfall in May 2020: 251 mm\n",
            "Rainfall in May 2021: 159 mm\n",
            "Rainfall in May 2022: 182 mm\n"
          ]
        }
      ]
    },
    {
      "cell_type": "markdown",
      "source": [
        "#**# Total and average rainfall in may from 2018 to 2022**"
      ],
      "metadata": {
        "id": "5BrSRPWx0N_s"
      }
    },
    {
      "cell_type": "code",
      "source": [
        "\n",
        "import operator\n",
        "\n",
        "total_rainfall = rainfall_2018 + rainfall_2019 + rainfall_2020 + rainfall_2021 + rainfall_2022\n",
        "print('Total rainfall from 2018 to 2022 in May  = ', total_rainfall)\n",
        "\n",
        "avg_rainfall =  operator.truediv(total_rainfall,5)\n",
        "print('Average rainfall from 2018 to 2022 in May = ', avg_rainfall)\n"
      ],
      "metadata": {
        "colab": {
          "base_uri": "https://localhost:8080/"
        },
        "id": "rRQ_2y6BIQwI",
        "outputId": "91cd430e-34a7-4cb5-a40a-6e385eb6752b"
      },
      "execution_count": null,
      "outputs": [
        {
          "output_type": "stream",
          "name": "stdout",
          "text": [
            "Total rainfall from 2018 to 2022 in May  =  862\n",
            "Average rainfall from 2018 to 2022 in May =  172.4\n"
          ]
        }
      ]
    },
    {
      "cell_type": "markdown",
      "source": [
        "#**# Average rainfall from 2012 to 2022**"
      ],
      "metadata": {
        "id": "gbndKkQZ0t-j"
      }
    },
    {
      "cell_type": "code",
      "source": [
        "\n",
        "total_rainfall = sum(filtered_df['Total Rainfall (mm)'])\n",
        "\n",
        "num_years = 2022 - 2012 + 1\n",
        "\n",
        "average_rainfall = operator.truediv(total_rainfall, num_years)\n",
        "\n",
        "print(f'Average rainfall from 2012 to 2022: {average_rainfall} mm/year')"
      ],
      "metadata": {
        "colab": {
          "base_uri": "https://localhost:8080/"
        },
        "id": "yWBgC8moaRrY",
        "outputId": "68860d75-af48-4361-ddb3-4685a581cebf"
      },
      "execution_count": null,
      "outputs": [
        {
          "output_type": "stream",
          "name": "stdout",
          "text": [
            "Average rainfall from 2012 to 2022: 174.63636363636363 mm/year\n"
          ]
        }
      ]
    },
    {
      "cell_type": "code",
      "source": [],
      "metadata": {
        "id": "4PPdWJZg6NCb"
      },
      "execution_count": null,
      "outputs": []
    },
    {
      "cell_type": "markdown",
      "source": [
        "#**# Below average rainfall in may from 2012 to 2022**"
      ],
      "metadata": {
        "id": "BP19hy5D1GkZ"
      }
    },
    {
      "cell_type": "code",
      "source": [
        "\n",
        "below_avg_rainfall_years = filtered_df[operator.lt(filtered_df['Total Rainfall (mm)'],average_rainfall)]\n",
        "print(below_avg_rainfall_years)"
      ],
      "metadata": {
        "colab": {
          "base_uri": "https://localhost:8080/"
        },
        "id": "ylvMWlTEbPsA",
        "outputId": "8fbe59fa-387d-486c-f6f5-2a4f81712f11"
      },
      "execution_count": null,
      "outputs": [
        {
          "output_type": "stream",
          "name": "stdout",
          "text": [
            "     SL.          Station  Year  Month  Total Rainfall (mm)\n",
            "244  245  Jessore (11407)  2012      5                   36\n",
            "268  269  Jessore (11407)  2014      5                  165\n",
            "280  281  Jessore (11407)  2015      5                  125\n",
            "316  317  Jessore (11407)  2018      5                  148\n",
            "328  329  Jessore (11407)  2019      5                  122\n",
            "352  353  Jessore (11407)  2021      5                  159\n"
          ]
        }
      ]
    },
    {
      "cell_type": "markdown",
      "source": [
        "#**# Extreme rainfall years in may from 2012 to 2022**"
      ],
      "metadata": {
        "id": "vSLL8qVk1sId"
      }
    },
    {
      "cell_type": "code",
      "source": [
        "\n",
        "high_threshold = 220\n",
        "\n",
        "extreme_rainfall_years = filtered_df[filtered_df['Total Rainfall (mm)'] > high_threshold]\n",
        "\n",
        "print(extreme_rainfall_years)"
      ],
      "metadata": {
        "colab": {
          "base_uri": "https://localhost:8080/"
        },
        "id": "hlcOuzAfNJES",
        "outputId": "fe1eb51c-700a-49e9-8f05-f74fa9e1cd70"
      },
      "execution_count": null,
      "outputs": [
        {
          "output_type": "stream",
          "name": "stdout",
          "text": [
            "     SL.          Station  Year  Month  Total Rainfall (mm)\n",
            "256  257  Jessore (11407)  2013      5                  278\n",
            "292  293  Jessore (11407)  2016      5                  269\n",
            "340  341  Jessore (11407)  2020      5                  251\n"
          ]
        }
      ]
    },
    {
      "cell_type": "markdown",
      "source": [
        "#**# Low rainfall years in may from 2012 to 2022**"
      ],
      "metadata": {
        "id": "0dbOofAV1Hbk"
      }
    },
    {
      "cell_type": "code",
      "source": [
        "import numpy as np\n",
        "\n",
        "# Filter the DataFrame for years with rainfall greater than 0 and less than 100\n",
        "low_rainfall_years = filtered_df[np.logical_and(filtered_df['Total Rainfall (mm)'].gt(0), filtered_df['Total Rainfall (mm)'].lt(100))]\n",
        "print(low_rainfall_years)"
      ],
      "metadata": {
        "colab": {
          "base_uri": "https://localhost:8080/"
        },
        "id": "vonL4WsOxOhN",
        "outputId": "79e51b40-eb55-4f3c-a9d7-ed667ff1307b"
      },
      "execution_count": null,
      "outputs": [
        {
          "output_type": "stream",
          "name": "stdout",
          "text": [
            "     SL.          Station  Year  Month  Total Rainfall (mm)\n",
            "244  245  Jessore (11407)  2012      5                   36\n"
          ]
        }
      ]
    },
    {
      "cell_type": "markdown",
      "source": [
        "#**# Highest rainfall in may from 2012 to 2022**"
      ],
      "metadata": {
        "id": "48SRaiCM2gxE"
      }
    },
    {
      "cell_type": "code",
      "source": [
        "# Compares each value in the 'Total Rainfall (mm)' column with the maximum value, resulting in a boolean mask indicating which rows have the maximum value\n",
        "\n",
        "highest_rainfall_year = filtered_df[filtered_df['Total Rainfall (mm)'] == filtered_df['Total Rainfall (mm)'].max()]\n",
        "print(highest_rainfall_year)"
      ],
      "metadata": {
        "colab": {
          "base_uri": "https://localhost:8080/"
        },
        "id": "woqB6hrubGka",
        "outputId": "d0f58a8a-efd9-40dc-c41e-b2f1966161c5"
      },
      "execution_count": null,
      "outputs": [
        {
          "output_type": "stream",
          "name": "stdout",
          "text": [
            "     SL.          Station  Year  Month  Total Rainfall (mm)\n",
            "256  257  Jessore (11407)  2013      5                  278\n"
          ]
        }
      ]
    },
    {
      "cell_type": "markdown",
      "source": [
        "#**# Lowest rainfall in may from 2012 to 2022**"
      ],
      "metadata": {
        "id": "N4PazKL01_LK"
      }
    },
    {
      "cell_type": "code",
      "source": [
        "# Compares each value in the 'Total Rainfall (mm)' column with the minimum value, resulting in a boolean mask indicating which rows have the minimum value\n",
        "\n",
        "lowest_rainfall_year = filtered_df[filtered_df['Total Rainfall (mm)'] == filtered_df['Total Rainfall (mm)'].min()]\n",
        "\n",
        "print(lowest_rainfall_year)"
      ],
      "metadata": {
        "colab": {
          "base_uri": "https://localhost:8080/"
        },
        "id": "YHnScZhoOXfQ",
        "outputId": "8fe34083-6567-4660-cb2e-35e72b79e00f"
      },
      "execution_count": null,
      "outputs": [
        {
          "output_type": "stream",
          "name": "stdout",
          "text": [
            "     SL.          Station  Year  Month  Total Rainfall (mm)\n",
            "244  245  Jessore (11407)  2012      5                   36\n"
          ]
        }
      ]
    }
  ]
}